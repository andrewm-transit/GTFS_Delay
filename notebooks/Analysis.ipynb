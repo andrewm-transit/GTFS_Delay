{
 "cells": [
  {
   "cell_type": "code",
   "execution_count": 2,
   "id": "initial_id",
   "metadata": {
    "collapsed": true,
    "ExecuteTime": {
     "end_time": "2023-12-01T00:36:59.848062900Z",
     "start_time": "2023-12-01T00:36:59.499265700Z"
    }
   },
   "outputs": [],
   "source": [
    "# Libraries\n",
    "import pandas as pd\n",
    "import shapely.ops\n",
    "\n",
    "from GTFSDelay import GTFSDelay\n",
    "import geopandas as gpd\n",
    "import seaborn as sns\n",
    "import partridge as ptg\n",
    "from shapely.ops import nearest_points, split, substring\n",
    "from shapely.geometry import Point, MultiPoint, LineString\n"
   ]
  },
  {
   "cell_type": "code",
   "execution_count": 4,
   "outputs": [
    {
     "name": "stderr",
     "output_type": "stream",
     "text": [
      "D:\\Anaconda\\envs\\GTFS_Delay\\Lib\\site-packages\\pyproj\\crs\\crs.py:141: FutureWarning: '+init=<authority>:<code>' syntax is deprecated. '<authority>:<code>' is the preferred initialization method. When making the change, be mindful of axis order changes: https://pyproj4.github.io/pyproj/stable/gotchas.html#axis-order-changes-in-proj-6\n",
      "  in_crs_string = _prepare_from_proj_string(in_crs_string)\n"
     ]
    }
   ],
   "source": [
    "path = 'D:/PyCharm/Projects/GTFS_Delay/data/gtfs.zip'\n",
    "#service_ids = ptg.read_busiest_date(path)[1]\n",
    "view = {'trips.txt': {}}\n",
    "test_data = ptg.load_geo_feed(path, view)\n",
    "shapes = test_data.shapes"
   ],
   "metadata": {
    "collapsed": false,
    "ExecuteTime": {
     "end_time": "2023-12-01T00:37:14.712929600Z",
     "start_time": "2023-12-01T00:37:14.079001400Z"
    }
   },
   "id": "584537fedc970d4"
  },
  {
   "cell_type": "code",
   "execution_count": 5,
   "outputs": [
    {
     "data": {
      "text/plain": "shape_id                                                25648\ngeometry    LINESTRING (-123.0873313 44.0577683, -123.0870...\nName: 0, dtype: object"
     },
     "execution_count": 5,
     "metadata": {},
     "output_type": "execute_result"
    }
   ],
   "source": [
    "shapes.iloc[0, :]"
   ],
   "metadata": {
    "collapsed": false,
    "ExecuteTime": {
     "end_time": "2023-12-01T00:37:15.392382900Z",
     "start_time": "2023-12-01T00:37:15.383014500Z"
    }
   },
   "id": "5d91564553f21cf7"
  },
  {
   "cell_type": "code",
   "execution_count": 6,
   "outputs": [
    {
     "data": {
      "text/plain": "<partridge.gtfs.Feed at 0x2188774e550>"
     },
     "execution_count": 6,
     "metadata": {},
     "output_type": "execute_result"
    }
   ],
   "source": [
    "test_view = {'trips.txt': {'shape_id': shapes.iloc[0,:].iloc[0]}}\n",
    "test_data = ptg.load_geo_feed(path, test_view)\n",
    "test_data"
   ],
   "metadata": {
    "collapsed": false,
    "ExecuteTime": {
     "end_time": "2023-12-01T00:37:17.437279900Z",
     "start_time": "2023-12-01T00:37:17.377085800Z"
    }
   },
   "id": "e5f0fdb23d222cf1"
  },
  {
   "cell_type": "code",
   "execution_count": 24,
   "outputs": [
    {
     "name": "stderr",
     "output_type": "stream",
     "text": [
      "D:\\Anaconda\\envs\\GTFS_Delay\\Lib\\site-packages\\shapely\\linear.py:86: RuntimeWarning: invalid value encountered in line_locate_point_normalized\n",
      "  return lib.line_locate_point_normalized(line, other)\n"
     ]
    }
   ],
   "source": [
    "test_data.stops['snapped_geom'] = [nearest_points(test_data.shapes['geometry'], x)[0][0]\n",
    "                                           for x in test_data.stops['geometry']]\n",
    "\n",
    "test_data.stops['lin_ref_pos1'] = 0.0\n",
    "for i in range(len(test_data.stops)):\n",
    "    test_data.stops.iloc[i, 13] = shapely.line_locate_point(test_data.shapes['geometry'][0],\n",
    "                                                            test_data.stops['geometry'].iloc[i],\n",
    "                                                            normalized=True)"
   ],
   "metadata": {
    "collapsed": false,
    "ExecuteTime": {
     "end_time": "2023-11-30T21:36:50.780536500Z",
     "start_time": "2023-11-30T21:36:50.768236600Z"
    }
   },
   "id": "2d34afd4232165a1"
  },
  {
   "cell_type": "code",
   "execution_count": 128,
   "outputs": [
    {
     "name": "stderr",
     "output_type": "stream",
     "text": [
      "C:\\Users\\TheMachine\\AppData\\Local\\Temp\\ipykernel_17160\\2759201861.py:11: FutureWarning: The behavior of DataFrame concatenation with empty or all-NA entries is deprecated. In a future version, this will no longer exclude empty or all-NA columns when determining the result dtypes. To retain the old behavior, exclude the relevant entries before the concat operation.\n",
      "  stop_pairs = pd.concat([stop_pairs,\n",
      "C:\\Users\\TheMachine\\AppData\\Local\\Temp\\ipykernel_17160\\2759201861.py:22: FutureWarning: Series.__getitem__ treating keys as positions is deprecated. In a future version, integer keys will always be treated as labels (consistent with DataFrame behavior). To access a value by position, use `ser.iloc[pos]`\n",
      "  apply(lambda x: substring(test_data.shapes['geometry'].iloc[0], x[0], x[1],normalized=True), axis=1)\n"
     ]
    }
   ],
   "source": [
    "# Create segments\n",
    "\n",
    "stops = test_data.stops.sort_values(by='lin_ref_pos', axis=0, ascending=True, ignore_index=True)\n",
    "\n",
    "# Generate stop pairs\n",
    "stop_pairs = pd.DataFrame(columns=['name', 'start_stop', 'end_stop', 'lin_ref_pos_start', 'lin_ref_pos_end'])\n",
    "for i in range(len(stops) - 1):\n",
    "    start = stops['stop_id'].iloc[i]\n",
    "    end = stops['stop_id'].iloc[i+1]\n",
    "    name = str(start) + '-' + str(end)\n",
    "    stop_pairs = pd.concat([stop_pairs,\n",
    "                            pd.DataFrame({'name': name,\n",
    "                                          'start_stop': start,\n",
    "                                          'end_stop': end,\n",
    "                                          'lin_ref_pos_start': stops['lin_ref_pos'].iloc[i],\n",
    "                                          'lin_ref_pos_end': stops['lin_ref_pos'].iloc[i+1]},\n",
    "                                         index=[0])], \n",
    "                           ignore_index=True)\n",
    "    \n",
    "# Create line segment for each stop pair\n",
    "stop_pairs['seg_geom'] = stop_pairs[['lin_ref_pos_start', 'lin_ref_pos_end']].\\\n",
    "    apply(lambda x: substring(test_data.shapes['geometry'].iloc[0], x[0], x[1],normalized=True), axis=1)\n",
    "\n",
    "# Make GeoDataFrame\n",
    "stop_pairs = gpd.GeoDataFrame(data=stop_pairs, geometry='seg_geom', crs='EPSG:4326')\n",
    "\n",
    "# Calculate distance in miles\n",
    "stop_pairs['seg_distance'] = stop_pairs.to_crs(epsg=6561)['seg_geom'].apply(lambda x: shapely.length(x)) / 5280 "
   ],
   "metadata": {
    "collapsed": false,
    "ExecuteTime": {
     "end_time": "2023-12-01T00:25:10.241923300Z",
     "start_time": "2023-12-01T00:25:10.216915300Z"
    }
   },
   "id": "3454ca63995e2a14"
  },
  {
   "cell_type": "code",
   "execution_count": 129,
   "outputs": [
    {
     "data": {
      "text/plain": "             name start_stop  end_stop  lin_ref_pos_start  lin_ref_pos_end  \\\n0     01060-01061      01060     01061           0.004326         0.167906   \n1     01061-01062      01061     01062           0.167906         0.298311   \n2     01062-01063      01062     01063           0.298311         0.368028   \n3     01063-01058      01063     01058           0.368028         0.509623   \n4     01058-02126      01058     02126           0.509623         0.776212   \n5  02126-escenter      02126  escenter           0.776212         0.984898   \n\n                                            seg_geom  seg_distance  \n0  LINESTRING (-123.08725 44.05775, -123.08707 44...      0.169165  \n1  LINESTRING (-123.08795 44.05648, -123.08818 44...      0.130432  \n2  LINESTRING (-123.08970 44.05587, -123.08970 44...      0.086523  \n3  LINESTRING (-123.08970 44.05463, -123.08968 44...      0.132470  \n4  LINESTRING (-123.09201 44.05440, -123.09232 44...      0.290500  \n5  LINESTRING (-123.09432 44.05173, -123.09426 44...      0.252262  ",
      "text/html": "<div>\n<style scoped>\n    .dataframe tbody tr th:only-of-type {\n        vertical-align: middle;\n    }\n\n    .dataframe tbody tr th {\n        vertical-align: top;\n    }\n\n    .dataframe thead th {\n        text-align: right;\n    }\n</style>\n<table border=\"1\" class=\"dataframe\">\n  <thead>\n    <tr style=\"text-align: right;\">\n      <th></th>\n      <th>name</th>\n      <th>start_stop</th>\n      <th>end_stop</th>\n      <th>lin_ref_pos_start</th>\n      <th>lin_ref_pos_end</th>\n      <th>seg_geom</th>\n      <th>seg_distance</th>\n    </tr>\n  </thead>\n  <tbody>\n    <tr>\n      <th>0</th>\n      <td>01060-01061</td>\n      <td>01060</td>\n      <td>01061</td>\n      <td>0.004326</td>\n      <td>0.167906</td>\n      <td>LINESTRING (-123.08725 44.05775, -123.08707 44...</td>\n      <td>0.169165</td>\n    </tr>\n    <tr>\n      <th>1</th>\n      <td>01061-01062</td>\n      <td>01061</td>\n      <td>01062</td>\n      <td>0.167906</td>\n      <td>0.298311</td>\n      <td>LINESTRING (-123.08795 44.05648, -123.08818 44...</td>\n      <td>0.130432</td>\n    </tr>\n    <tr>\n      <th>2</th>\n      <td>01062-01063</td>\n      <td>01062</td>\n      <td>01063</td>\n      <td>0.298311</td>\n      <td>0.368028</td>\n      <td>LINESTRING (-123.08970 44.05587, -123.08970 44...</td>\n      <td>0.086523</td>\n    </tr>\n    <tr>\n      <th>3</th>\n      <td>01063-01058</td>\n      <td>01063</td>\n      <td>01058</td>\n      <td>0.368028</td>\n      <td>0.509623</td>\n      <td>LINESTRING (-123.08970 44.05463, -123.08968 44...</td>\n      <td>0.132470</td>\n    </tr>\n    <tr>\n      <th>4</th>\n      <td>01058-02126</td>\n      <td>01058</td>\n      <td>02126</td>\n      <td>0.509623</td>\n      <td>0.776212</td>\n      <td>LINESTRING (-123.09201 44.05440, -123.09232 44...</td>\n      <td>0.290500</td>\n    </tr>\n    <tr>\n      <th>5</th>\n      <td>02126-escenter</td>\n      <td>02126</td>\n      <td>escenter</td>\n      <td>0.776212</td>\n      <td>0.984898</td>\n      <td>LINESTRING (-123.09432 44.05173, -123.09426 44...</td>\n      <td>0.252262</td>\n    </tr>\n  </tbody>\n</table>\n</div>"
     },
     "execution_count": 129,
     "metadata": {},
     "output_type": "execute_result"
    }
   ],
   "source": [
    "stop_pairs"
   ],
   "metadata": {
    "collapsed": false,
    "ExecuteTime": {
     "end_time": "2023-12-01T00:25:11.987504300Z",
     "start_time": "2023-12-01T00:25:11.962727Z"
    }
   },
   "id": "5d3f6d80f83fb75f"
  },
  {
   "cell_type": "code",
   "execution_count": 108,
   "outputs": [
    {
     "data": {
      "text/plain": "<LINESTRING (-123.094 44.052, -123.094 44.052, -123.094 44.051, -123.094 44....>",
      "image/svg+xml": "<svg xmlns=\"http://www.w3.org/2000/svg\" xmlns:xlink=\"http://www.w3.org/1999/xlink\" width=\"100.0\" height=\"100.0\" viewBox=\"-123.09446141878506 44.048176211588235 0.0008987328974399134 0.0036887071968365603\" preserveAspectRatio=\"xMinYMin meet\"><g transform=\"matrix(1,0,0,-1,0,88.10004113037331)\"><polyline fill=\"none\" stroke=\"#66cc99\" stroke-width=\"7.37741439367312e-05\" points=\"-123.0943248,44.0517283 -123.0942623,44.0515083 -123.0942796,44.0512641 -123.0942881,44.0509806 -123.0942853,44.0507485 -123.0942745,44.0505165 -123.0942801,44.0502541 -123.0942784,44.0500088 -123.0942784,44.0497521 -123.0942716,44.0494943 -123.0942801,44.0492686 -123.0943168,44.0490033 -123.094165,44.0487913 -123.0938471,44.0487501 -123.0937856,44.0485255 -123.09369930467268,44.048312830373305\" opacity=\"0.8\" /></g></svg>"
     },
     "execution_count": 108,
     "metadata": {},
     "output_type": "execute_result"
    }
   ],
   "source": [
    "stop_pairs['seg_geom'].iloc[5]"
   ],
   "metadata": {
    "collapsed": false,
    "ExecuteTime": {
     "end_time": "2023-12-01T00:02:11.125061400Z",
     "start_time": "2023-12-01T00:02:11.111056Z"
    }
   },
   "id": "dcd40becdb980319"
  },
  {
   "cell_type": "code",
   "execution_count": 8,
   "outputs": [
    {
     "name": "stderr",
     "output_type": "stream",
     "text": [
      "D:\\Anaconda\\envs\\GTFS_Delay\\Lib\\site-packages\\pyproj\\crs\\crs.py:141: FutureWarning: '+init=<authority>:<code>' syntax is deprecated. '<authority>:<code>' is the preferred initialization method. When making the change, be mindful of axis order changes: https://pyproj4.github.io/pyproj/stable/gotchas.html#axis-order-changes-in-proj-6\n",
      "  in_crs_string = _prepare_from_proj_string(in_crs_string)\n",
      "D:\\Anaconda\\envs\\GTFS_Delay\\Lib\\site-packages\\shapely\\linear.py:86: RuntimeWarning: invalid value encountered in line_locate_point_normalized\n",
      "  return lib.line_locate_point_normalized(line, other)\n",
      "D:\\PyCharm\\Projects\\GTFS_Delay\\GTFSDelay.py:49: FutureWarning: The behavior of DataFrame concatenation with empty or all-NA entries is deprecated. In a future version, this will no longer exclude empty or all-NA columns when determining the result dtypes. To retain the old behavior, exclude the relevant entries before the concat operation.\n",
      "  self.stop_pairs = pd.concat([self.stop_pairs,\n",
      "D:\\PyCharm\\Projects\\GTFS_Delay\\GTFSDelay.py:61: FutureWarning: Series.__getitem__ treating keys as positions is deprecated. In a future version, integer keys will always be treated as labels (consistent with DataFrame behavior). To access a value by position, use `ser.iloc[pos]`\n",
      "  x[0],\n",
      "D:\\PyCharm\\Projects\\GTFS_Delay\\GTFSDelay.py:62: FutureWarning: Series.__getitem__ treating keys as positions is deprecated. In a future version, integer keys will always be treated as labels (consistent with DataFrame behavior). To access a value by position, use `ser.iloc[pos]`\n",
      "  x[1],\n"
     ]
    }
   ],
   "source": [
    "testobj = GTFSDelay(test_data)"
   ],
   "metadata": {
    "collapsed": false,
    "ExecuteTime": {
     "end_time": "2023-12-01T00:37:54.863181100Z",
     "start_time": "2023-12-01T00:37:54.287217800Z"
    }
   },
   "id": "d18d8ba0cbd0a1e2"
  },
  {
   "cell_type": "code",
   "execution_count": 10,
   "outputs": [
    {
     "data": {
      "text/plain": "    trip_id  arrival_time  departure_time   stop_id  stop_sequence  \\\n0    702365       34680.0         34680.0     01060              1   \n1    702365           NaN             NaN     01061              2   \n2    702365           NaN             NaN     01062              3   \n3    702365       34860.0         34860.0     01063              4   \n4    702365           NaN             NaN     01058              5   \n..      ...           ...             ...       ...            ...   \n205  705297           NaN             NaN     01062              3   \n206  705297       49260.0         49260.0     01063              4   \n207  705297           NaN             NaN     01058              5   \n208  705297           NaN             NaN     02126              6   \n209  705297       49800.0         49800.0  escenter              7   \n\n         stop_headsign layover pattern_id  pickup_type drop_off_type  \\\n0    01 EUGENE STATION    True      25648          NaN           NaN   \n1    01 EUGENE STATION   False      25648          NaN           NaN   \n2    01 EUGENE STATION   False      25648          NaN           NaN   \n3    01 EUGENE STATION   False      25648          NaN           NaN   \n4    01 EUGENE STATION   False      25648          NaN           NaN   \n..                 ...     ...        ...          ...           ...   \n205  01 EUGENE STATION   False      25648          NaN           NaN   \n206  01 EUGENE STATION   False      25648          NaN           NaN   \n207  01 EUGENE STATION   False      25648          NaN           NaN   \n208  01 EUGENE STATION   False      25648          NaN           NaN   \n209  01 EUGENE STATION   False      25648          NaN           NaN   \n\n     shape_dist_traveled  timepoint  \n0                    NaN          1  \n1                    NaN          0  \n2                    NaN          0  \n3                    NaN          1  \n4                    NaN          0  \n..                   ...        ...  \n205                  NaN          0  \n206                  NaN          1  \n207                  NaN          0  \n208                  NaN          0  \n209                  NaN          1  \n\n[210 rows x 12 columns]",
      "text/html": "<div>\n<style scoped>\n    .dataframe tbody tr th:only-of-type {\n        vertical-align: middle;\n    }\n\n    .dataframe tbody tr th {\n        vertical-align: top;\n    }\n\n    .dataframe thead th {\n        text-align: right;\n    }\n</style>\n<table border=\"1\" class=\"dataframe\">\n  <thead>\n    <tr style=\"text-align: right;\">\n      <th></th>\n      <th>trip_id</th>\n      <th>arrival_time</th>\n      <th>departure_time</th>\n      <th>stop_id</th>\n      <th>stop_sequence</th>\n      <th>stop_headsign</th>\n      <th>layover</th>\n      <th>pattern_id</th>\n      <th>pickup_type</th>\n      <th>drop_off_type</th>\n      <th>shape_dist_traveled</th>\n      <th>timepoint</th>\n    </tr>\n  </thead>\n  <tbody>\n    <tr>\n      <th>0</th>\n      <td>702365</td>\n      <td>34680.0</td>\n      <td>34680.0</td>\n      <td>01060</td>\n      <td>1</td>\n      <td>01 EUGENE STATION</td>\n      <td>True</td>\n      <td>25648</td>\n      <td>NaN</td>\n      <td>NaN</td>\n      <td>NaN</td>\n      <td>1</td>\n    </tr>\n    <tr>\n      <th>1</th>\n      <td>702365</td>\n      <td>NaN</td>\n      <td>NaN</td>\n      <td>01061</td>\n      <td>2</td>\n      <td>01 EUGENE STATION</td>\n      <td>False</td>\n      <td>25648</td>\n      <td>NaN</td>\n      <td>NaN</td>\n      <td>NaN</td>\n      <td>0</td>\n    </tr>\n    <tr>\n      <th>2</th>\n      <td>702365</td>\n      <td>NaN</td>\n      <td>NaN</td>\n      <td>01062</td>\n      <td>3</td>\n      <td>01 EUGENE STATION</td>\n      <td>False</td>\n      <td>25648</td>\n      <td>NaN</td>\n      <td>NaN</td>\n      <td>NaN</td>\n      <td>0</td>\n    </tr>\n    <tr>\n      <th>3</th>\n      <td>702365</td>\n      <td>34860.0</td>\n      <td>34860.0</td>\n      <td>01063</td>\n      <td>4</td>\n      <td>01 EUGENE STATION</td>\n      <td>False</td>\n      <td>25648</td>\n      <td>NaN</td>\n      <td>NaN</td>\n      <td>NaN</td>\n      <td>1</td>\n    </tr>\n    <tr>\n      <th>4</th>\n      <td>702365</td>\n      <td>NaN</td>\n      <td>NaN</td>\n      <td>01058</td>\n      <td>5</td>\n      <td>01 EUGENE STATION</td>\n      <td>False</td>\n      <td>25648</td>\n      <td>NaN</td>\n      <td>NaN</td>\n      <td>NaN</td>\n      <td>0</td>\n    </tr>\n    <tr>\n      <th>...</th>\n      <td>...</td>\n      <td>...</td>\n      <td>...</td>\n      <td>...</td>\n      <td>...</td>\n      <td>...</td>\n      <td>...</td>\n      <td>...</td>\n      <td>...</td>\n      <td>...</td>\n      <td>...</td>\n      <td>...</td>\n    </tr>\n    <tr>\n      <th>205</th>\n      <td>705297</td>\n      <td>NaN</td>\n      <td>NaN</td>\n      <td>01062</td>\n      <td>3</td>\n      <td>01 EUGENE STATION</td>\n      <td>False</td>\n      <td>25648</td>\n      <td>NaN</td>\n      <td>NaN</td>\n      <td>NaN</td>\n      <td>0</td>\n    </tr>\n    <tr>\n      <th>206</th>\n      <td>705297</td>\n      <td>49260.0</td>\n      <td>49260.0</td>\n      <td>01063</td>\n      <td>4</td>\n      <td>01 EUGENE STATION</td>\n      <td>False</td>\n      <td>25648</td>\n      <td>NaN</td>\n      <td>NaN</td>\n      <td>NaN</td>\n      <td>1</td>\n    </tr>\n    <tr>\n      <th>207</th>\n      <td>705297</td>\n      <td>NaN</td>\n      <td>NaN</td>\n      <td>01058</td>\n      <td>5</td>\n      <td>01 EUGENE STATION</td>\n      <td>False</td>\n      <td>25648</td>\n      <td>NaN</td>\n      <td>NaN</td>\n      <td>NaN</td>\n      <td>0</td>\n    </tr>\n    <tr>\n      <th>208</th>\n      <td>705297</td>\n      <td>NaN</td>\n      <td>NaN</td>\n      <td>02126</td>\n      <td>6</td>\n      <td>01 EUGENE STATION</td>\n      <td>False</td>\n      <td>25648</td>\n      <td>NaN</td>\n      <td>NaN</td>\n      <td>NaN</td>\n      <td>0</td>\n    </tr>\n    <tr>\n      <th>209</th>\n      <td>705297</td>\n      <td>49800.0</td>\n      <td>49800.0</td>\n      <td>escenter</td>\n      <td>7</td>\n      <td>01 EUGENE STATION</td>\n      <td>False</td>\n      <td>25648</td>\n      <td>NaN</td>\n      <td>NaN</td>\n      <td>NaN</td>\n      <td>1</td>\n    </tr>\n  </tbody>\n</table>\n<p>210 rows × 12 columns</p>\n</div>"
     },
     "execution_count": 10,
     "metadata": {},
     "output_type": "execute_result"
    }
   ],
   "source": [
    "testobj.gtfs.stop_times"
   ],
   "metadata": {
    "collapsed": false,
    "ExecuteTime": {
     "end_time": "2023-12-01T00:39:27.912778600Z",
     "start_time": "2023-12-01T00:39:27.673333900Z"
    }
   },
   "id": "ba4379ec4df856ce"
  },
  {
   "cell_type": "code",
   "execution_count": null,
   "outputs": [],
   "source": [],
   "metadata": {
    "collapsed": false
   },
   "id": "e0ba50b6720b364e"
  }
 ],
 "metadata": {
  "kernelspec": {
   "display_name": "Python 3",
   "language": "python",
   "name": "python3"
  },
  "language_info": {
   "codemirror_mode": {
    "name": "ipython",
    "version": 2
   },
   "file_extension": ".py",
   "mimetype": "text/x-python",
   "name": "python",
   "nbconvert_exporter": "python",
   "pygments_lexer": "ipython2",
   "version": "2.7.6"
  }
 },
 "nbformat": 4,
 "nbformat_minor": 5
}
